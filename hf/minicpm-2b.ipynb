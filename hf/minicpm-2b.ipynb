{
 "cells": [
  {
   "cell_type": "markdown",
   "metadata": {},
   "source": [
    "# HuggingFace 模型\n",
    "\n",
    "## MiniCPM-2B\n",
    "\n",
    "- 安装`transformers>=4.36.0`以及`accelerate`后，运行以下代码"
   ]
  },
  {
   "cell_type": "code",
   "execution_count": 2,
   "metadata": {},
   "outputs": [
    {
     "name": "stderr",
     "output_type": "stream",
     "text": [
      "Setting `pad_token_id` to `eos_token_id`:2 for open-end generation.\n"
     ]
    },
    {
     "name": "stdout",
     "output_type": "stream",
     "text": [
      "四川省最高的山是贡嘎山，海拔高度为7556米。而K2峰（K2峰是K2峰峰顶的正式名称）是世界上第二高的山峰，海拔高度为8611米。\n",
      "\n",
      "因此，贡嘎山的海拔高度比K2峰低。具体来说，贡嘎山的海拔高度比K2峰低1045米。\n"
     ]
    }
   ],
   "source": [
    "from transformers import AutoModelForCausalLM, AutoTokenizer\n",
    "import torch\n",
    "torch.manual_seed(0)\n",
    "\n",
    "path = 'openbmb/MiniCPM-2B-dpo-bf16'\n",
    "tokenizer = AutoTokenizer.from_pretrained(path)\n",
    "model = AutoModelForCausalLM.from_pretrained(path, torch_dtype=torch.bfloat16, device_map='cuda', trust_remote_code=True)\n",
    "\n",
    "responds, history = model.chat(tokenizer, \"四川省最高的山是哪座山, 它比K2高还是矮？差距多少？\", temperature=0.5, top_p=0.8, repetition_penalty=1.02)\n",
    "print(responds)"
   ]
  },
  {
   "cell_type": "markdown",
   "metadata": {},
   "source": [
    "## MiniCPM-V\n",
    "\n",
    "多模态（视觉）模型"
   ]
  },
  {
   "cell_type": "markdown",
   "metadata": {},
   "source": [
    "需要安装flash-attn: `pip install flash_attn`\n",
    "\n",
    "- 注意torch__version__ = 2.1.2+cu121是不支持的\n",
    "```\n",
    "$ pip install flash_attn\n",
    "Collecting flash_attn\n",
    "  Downloading flash_attn-2.5.2.tar.gz (2.5 MB)\n",
    "     ━━━━━━━━━━━━━━━━━━━━━━━━━━━━━━━━━━━━━━━━ 2.5/2.5 MB 1.0 MB/s eta 0:00:00\n",
    "  Preparing metadata (setup.py) ... error\n",
    "  error: subprocess-exited-with-error\n",
    "  \n",
    "  × python setup.py egg_info did not run successfully.\n",
    "  │ exit code: 1\n",
    "  ╰─> [22 lines of output]\n",
    "      fatal: not a git repository (or any of the parent directories): .git\n",
    "      Traceback (most recent call last):\n",
    "        File \"<string>\", line 2, in <module>\n",
    "        File \"<pip-setuptools-caller>\", line 34, in <module>\n",
    "        File \"/tmp/pip-install-vwvbptyl/flash-attn_4ab0bfafef2d42fdbe28a091588f3008/setup.py\", line 112, in <module>\n",
    "          _, bare_metal_version = get_cuda_bare_metal_version(CUDA_HOME)\n",
    "        File \"/tmp/pip-install-vwvbptyl/flash-attn_4ab0bfafef2d42fdbe28a091588f3008/setup.py\", line 65, in get_cuda_bare_metal_version\n",
    "          raw_output = subprocess.check_output([cuda_dir + \"/bin/nvcc\", \"-V\"], universal_newlines=True)\n",
    "        File \"/opt/anaconda3/envs/learning-in-general/lib/python3.10/subprocess.py\", line 421, in check_output\n",
    "          return run(*popenargs, stdout=PIPE, timeout=timeout, check=True,\n",
    "        File \"/opt/anaconda3/envs/learning-in-general/lib/python3.10/subprocess.py\", line 503, in run\n",
    "          with Popen(*popenargs, **kwargs) as process:\n",
    "        File \"/opt/anaconda3/envs/learning-in-general/lib/python3.10/subprocess.py\", line 971, in __init__\n",
    "          self._execute_child(args, executable, preexec_fn, close_fds,\n",
    "        File \"/opt/anaconda3/envs/learning-in-general/lib/python3.10/subprocess.py\", line 1863, in _execute_child\n",
    "          raise child_exception_type(errno_num, err_msg, err_filename)\n",
    "      FileNotFoundError: [Errno 2] No such file or directory: '/opt/anaconda3/envs/learning-in-general/bin/nvcc'\n",
    "      \n",
    "      \n",
    "      torch.__version__  = 2.1.2+cu121\n",
    "      \n",
    "      \n",
    "      [end of output]\n",
    "  \n",
    "  note: This error originates from a subprocess, and is likely not a problem with pip.\n",
    "error: metadata-generation-failed\n",
    "\n",
    "× Encountered error while generating package metadata.\n",
    "╰─> See above for output.\n",
    "```"
   ]
  },
  {
   "cell_type": "code",
   "execution_count": null,
   "metadata": {},
   "outputs": [],
   "source": [
    "import torch\n",
    "from PIL import Image\n",
    "from transformers import AutoModel, AutoTokenizer\n",
    "import os\n",
    "\n",
    "model = AutoModel.from_pretrained('openbmb/MiniCPM-V', trust_remote_code=True)\n",
    "tokenizer = AutoTokenizer.from_pretrained('openbmb/MiniCPM-V', trust_remote_code=True)\n",
    "model.eval().cuda()\n",
    "\n",
    "# os expand path\n",
    "image = Image.open(os.path.expanduser('~/Pictures/SD/SFW/girl-on-top-of-mountain.png')).convert('RGB')\n",
    "question = 'What is in the image?'\n",
    "msgs = [{'role': 'user', 'content': question}]\n",
    "\n",
    "res, context, _ = model.chat(\n",
    "    image=image,\n",
    "    msgs=msgs,\n",
    "    context=None,\n",
    "    tokenizer=tokenizer,\n",
    "    sampling=True,\n",
    "    temperature=0.7\n",
    ")\n",
    "print(res)"
   ]
  }
 ],
 "metadata": {
  "kernelspec": {
   "display_name": "learning-in-general",
   "language": "python",
   "name": "python3"
  },
  "language_info": {
   "codemirror_mode": {
    "name": "ipython",
    "version": 3
   },
   "file_extension": ".py",
   "mimetype": "text/x-python",
   "name": "python",
   "nbconvert_exporter": "python",
   "pygments_lexer": "ipython3",
   "version": "3.10.13"
  }
 },
 "nbformat": 4,
 "nbformat_minor": 2
}
