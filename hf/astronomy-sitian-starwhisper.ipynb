{
 "cells": [
  {
   "cell_type": "markdown",
   "metadata": {},
   "source": [
    "1. 司天模型\n",
    "2. 推理速度巨慢"
   ]
  },
  {
   "cell_type": "code",
   "execution_count": 1,
   "metadata": {},
   "outputs": [
    {
     "name": "stderr",
     "output_type": "stream",
     "text": [
      "2024-03-16 22:39:09,460 - modelscope - INFO - PyTorch version 2.1.2 Found.\n",
      "2024-03-16 22:39:09,462 - modelscope - INFO - Loading ast index from /home/richardliu/.cache/modelscope/ast_indexer\n",
      "2024-03-16 22:39:09,541 - modelscope - INFO - Loading done! Current index file version is 1.11.1, with md5 596e9fce0989d13e68a4605dda9525d3 and a total number of 956 components indexed\n",
      "/opt/anaconda3/envs/learning-in-general/lib/python3.10/site-packages/tqdm/auto.py:21: TqdmWarning: IProgress not found. Please update jupyter and ipywidgets. See https://ipywidgets.readthedocs.io/en/stable/user_install.html\n",
      "  from .autonotebook import tqdm as notebook_tqdm\n",
      "Warning: please make sure that you are using the latest codes and checkpoints, especially if you used Qwen-7B before 09.25.2023.请使用最新模型和代码，尤其如果你在9月25日前已经开始使用Qwen-7B，千万注意不要使用错误代码和模型。\n",
      "Warning: import flash_attn rotary fail, please install FlashAttention rotary to get higher efficiency https://github.com/Dao-AILab/flash-attention/tree/main/csrc/rotary\n",
      "Warning: import flash_attn rms_norm fail, please install FlashAttention layer_norm to get higher efficiency https://github.com/Dao-AILab/flash-attention/tree/main/csrc/layer_norm\n",
      "Warning: import flash_attn fail, please install FlashAttention to get higher efficiency https://github.com/Dao-AILab/flash-attention\n",
      "Loading checkpoint shards: 100%|██████████| 29/29 [00:13<00:00,  2.07it/s]\n",
      "WARNING:root:Some parameters are on the meta device device because they were offloaded to the cpu.\n"
     ]
    }
   ],
   "source": [
    "from modelscope import AutoModelForCausalLM, AutoTokenizer\n",
    "from modelscope import GenerationConfig\n",
    "\n",
    "tokenizer = AutoTokenizer.from_pretrained(\"AstroYuYang/StarWhisper\", trust_remote_code=True)\n",
    "\n",
    "model = AutoModelForCausalLM.from_pretrained(\"AstroYuYang/StarWhisper\", device_map=\"auto\", trust_remote_code=True).eval()\n",
    "\n",
    "# 在cpu上推理\n",
    "# model = AutoModelForCausalLM.from_pretrained(\"AstroYuYang/StarWhisper\", device_map=\"cpu\", trust_remote_code=True).eval()\n",
    "\n",
    "# model.generation_config = GenerationConfig.from_pretrained(\"AstroYuYang/StarWhisper\", trust_remote_code=True) # 可指定不同超参\n"
   ]
  },
  {
   "cell_type": "code",
   "execution_count": 3,
   "metadata": {},
   "outputs": [
    {
     "name": "stdout",
     "output_type": "stream",
     "text": [
      "你好！很高兴为你提供帮助。请问你有什么问题或需要我的帮助吗？我会尽我所能来回答你的问题或提供你需要的支持。如果你想了解更多关于某个主题的信息，或者需要关于某个主题的帮助和建议，请随时告诉我，我会尽力为你提供有用的信息和指导。\n",
      "黑洞是宇宙中最神秘、最奇特的天体之一。它是一种极度紧凑且密度极高的天体，具有如此强大的引力场，以至于连光也无法逃脱其吸引力。\n",
      "简单来说，黑洞是由极度压缩的质量形成的，在它的表面上没有物体可以逃脱。由于这个原因，我们无法直接观察到黑洞，但可以通过间接的方式来探测它们的存在。\n",
      "在物理学中，一个天体被称为“黑洞”是因为它完全吞噬了所有靠近它的物质，并将其压缩成一个无质量的点，称为“奇点”。在这个点上，物理定律不再适用，我们对这些区域知之甚少。\n",
      "我们通常通过测量周围天体的运动来推断黑洞的存在，例如恒星、气体云等的轨道运动。此外，我们还可以通过探测来自黑洞附近的高能辐射来了解这些天体的存在。黑洞对我们理解宇宙的本质以及整个宇宙的演化过程具有重要的作用。\n",
      "希望这对你有所帮助！如果你还有其他问题，请随时提出，我会尽快回答你的疑问。\n"
     ]
    }
   ],
   "source": [
    "# 1st\n",
    "response, history = model.chat(tokenizer, \"你好\", history=None)\n",
    "print(response)\n",
    "\n",
    "# 2nd\n",
    "response, history = model.chat(tokenizer, \"什么是黑洞？\", history=history)\n",
    "print(response)"
   ]
  },
  {
   "cell_type": "code",
   "execution_count": 2,
   "metadata": {},
   "outputs": [
    {
     "name": "stdout",
     "output_type": "stream",
     "text": [
      "戴森球（Dyson Sphere）是由英国物理学家弗雷德·戴森在1960年代提出的一种假设性概念，它是一个理论上的大型结构，可以包围一个恒星，用于收集和利用该恒星的全部能量。戴森球通常被设想为由大量的材料构成的半透明外壳，它可以捕获和反射恒星发出的部分光线，使剩余的能量能够传递给内部的人工生态系统或发电系统。\n",
      "\n",
      "戴森球的概念引发了许多科幻作品的想象，例如描绘未来人类可能建造的巨大空间结构，以利用整个太阳系中的能源。然而，目前还没有证据表明戴森球的存在已经被证实或者观测到过。同时，这种大规模的空间结构需要极大的技术和资源支持才能实现，这也是科学技术发展面临的巨大挑战之一。\n"
     ]
    }
   ],
   "source": [
    "# 1st\n",
    "response, history = model.chat(tokenizer, \"什么是戴森球？\", history=None)\n",
    "print(response)"
   ]
  },
  {
   "cell_type": "code",
   "execution_count": null,
   "metadata": {},
   "outputs": [],
   "source": []
  }
 ],
 "metadata": {
  "kernelspec": {
   "display_name": "learning-in-general",
   "language": "python",
   "name": "python3"
  },
  "language_info": {
   "codemirror_mode": {
    "name": "ipython",
    "version": 3
   },
   "file_extension": ".py",
   "mimetype": "text/x-python",
   "name": "python",
   "nbconvert_exporter": "python",
   "pygments_lexer": "ipython3",
   "version": "3.10.13"
  }
 },
 "nbformat": 4,
 "nbformat_minor": 2
}
