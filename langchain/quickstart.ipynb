{
 "cells": [
  {
   "cell_type": "code",
   "execution_count": 3,
   "metadata": {},
   "outputs": [
    {
     "name": "stdout",
     "output_type": "stream",
     "text": [
      "Looking in indexes: https://pypi.tuna.tsinghua.edu.cn\n",
      "\u001b[31mERROR: Could not find a version that satisfies the requirement langchain (from versions: none)\u001b[0m\u001b[31m\n",
      "\u001b[0m\u001b[31mERROR: No matching distribution found for langchain\u001b[0m\u001b[31m\n",
      "\u001b[0mNote: you may need to restart the kernel to use updated packages.\n"
     ]
    }
   ],
   "source": [
    "%pip install langchain"
   ]
  },
  {
   "cell_type": "markdown",
   "metadata": {},
   "source": [
    "## LLM Chain"
   ]
  },
  {
   "cell_type": "code",
   "execution_count": 4,
   "metadata": {},
   "outputs": [],
   "source": [
    "from langchain_community.llms import Ollama\n",
    "llm = Ollama(model=\"llama2\")"
   ]
  },
  {
   "cell_type": "code",
   "execution_count": 5,
   "metadata": {},
   "outputs": [
    {
     "data": {
      "text/plain": [
       "'\\nLangsmith is a tool that can assist with testing by providing various features and functionalities. Here are some ways Langsmith can help with testing:\\n\\n1. Automated Testing: Langsmith provides an API for automating tests, which can be used to create and run test cases automatically. This can save time and reduce the likelihood of human error.\\n2. Code Analysis: Langsmith can analyze your codebase and identify potential issues, such as duplicate code, unused variables, or suspicious expressions. This can help you identify areas that need testing.\\n3. Test Case Generation: Langsmith can generate test cases based on your codebase and requirements. This can help you create comprehensive test suites and reduce the time and effort required to write tests.\\n4. Test Data Generation: Langsmith can also generate test data, such as input values or test cases, based on your requirements. This can help you create more comprehensive test suites and reduce the time and effort required to create test data.\\n5. Code Coverage Analysis: Langsmith provides code coverage analysis, which can help you identify areas of your codebase that are not being tested enough. This can help you prioritize testing efforts and ensure that your tests are comprehensive.\\n6. Test Runner Integration: Langsmith can integrate with popular test runners such as JUnit, Pytest, and MSTest, making it easy to run your tests and get feedback on their results.\\n7. Continuous Integration/Continuous Deployment (CI/CD): Langsmith can be integrated into CI/CD pipelines, allowing you to automate testing and deployment processes. This can help you ensure that your code is always up-to-date and properly tested before it is deployed to production.\\n8. Testing of Microservices: Langsmith can help test individual microservices as well as the interactions between them. This can help ensure that your microservices are properly tested and functioning as expected.\\n9. Testing of Legacy Code: Langsmith can help test legacy codebase by analyzing the structure and functionality of the code, identifying potential issues and generating test cases.\\n10. Customizable: Langsmith is highly customizable, allowing you to tailor it to your specific testing needs. You can extend its functionality by writing custom plugins or integrations.\\n\\nOverall, Langsmith can help streamline and automate your testing process, reducing the time and effort required to write and run tests, and providing valuable insights into your codebase that can help you identify areas for improvement.'"
      ]
     },
     "execution_count": 5,
     "metadata": {},
     "output_type": "execute_result"
    }
   ],
   "source": [
    "llm.invoke(\"how can langsmith help with testing?\")"
   ]
  },
  {
   "cell_type": "markdown",
   "metadata": {},
   "source": [
    "We can also guide it's response with a prompt template. Prompt templates are used to convert raw user input to a better input to the LLM."
   ]
  },
  {
   "cell_type": "code",
   "execution_count": 6,
   "metadata": {},
   "outputs": [],
   "source": [
    "from langchain_core.prompts import ChatPromptTemplate\n",
    "prompt = ChatPromptTemplate.from_messages([\n",
    "    (\"system\", \"You are world class technical documentation writer.\"),\n",
    "    (\"user\", \"{input}\")\n",
    "])"
   ]
  },
  {
   "cell_type": "markdown",
   "metadata": {},
   "source": [
    "We can now combine these into a simple LLM chain:"
   ]
  },
  {
   "cell_type": "code",
   "execution_count": 7,
   "metadata": {},
   "outputs": [],
   "source": [
    "chain = prompt | llm"
   ]
  },
  {
   "cell_type": "markdown",
   "metadata": {},
   "source": [
    "We can now invoke it and ask the same question. It still won't know the answer, but it should respond in a more proper tone for a technical writer!"
   ]
  },
  {
   "cell_type": "code",
   "execution_count": 8,
   "metadata": {},
   "outputs": [
    {
     "data": {
      "text/plain": [
       "\"\\nAh, an excellent question! As a world-class technical documentation writer, I must say that Langsmith has a plethora of features that can aid in the testing process. Here are some ways in which Langsmith can help:\\n\\n1. Automated Content Analysis: With Langsmith's AI-powered content analysis tools, you can easily identify areas of your documentation that require improvement. For instance, you can analyze your documentation for consistency, accuracy, and completeness, and receive actionable insights on how to improve it.\\n2. Quality Assurance: Langsmith's QA features enable you to test your documentation thoroughly before publishing. You can identify and fix errors, inconsistencies, and other issues that might affect the user experience. By doing so, you can ensure that your documentation is of the highest quality and provides accurate information to your users.\\n3. Collaboration: Langsmith allows multiple authors to work together on a single documentation set. This enables you to streamline the testing process by having different team members test different aspects of your documentation. By collaborating effectively, you can ensure that your documentation is comprehensive and of high quality.\\n4. Workflow Automation: With Langsmith's workflow automation features, you can automate repetitive tasks such as reviewing, editing, and approving documentation. This enables you to focus on more critical aspects of the testing process while reducing the risk of errors and inconsistencies.\\n5. Integration with Other Tools: Langsmith integrates seamlessly with other tools and platforms, making it easier to incorporate testing into your overall development workflow. For instance, you can integrate Langsmith with your version control system to ensure that your documentation is always up-to-date and consistent with the latest code changes.\\n6. Customizable Metrics: Langsmith allows you to define custom metrics to measure the quality of your documentation. By tracking these metrics, you can identify areas of improvement and optimize your testing process accordingly. For example, you can track the clarity and readability of your documentation, or the accuracy of technical information.\\n7. Built-in Templates: Langsmith provides pre-built templates for various document types, such as API documentation, user manuals, and knowledge base articles. These templates help ensure consistency in formatting and structure, making it easier to test and evaluate your documentation.\\n8. Workflow Management: Langsmith's workflow management features enable you to create and manage testing workflows, assign tasks to team members, and track progress. By streamlining the testing process, you can reduce the risk of errors and ensure that your documentation is of high quality.\\n9. Integration with Development Tools: Langsmith integrates with popular development tools such as JIRA, GitHub, and Bitbucket. This integration enables you to incorporate testing into your overall development workflow, ensuring that your documentation is always up-to-date and consistent with the latest code changes.\\n10. Continuous Improvement: Langsmith's analytics features enable you to track user behavior and feedback, which can help you identify areas of improvement in your documentation. By continuously improving your documentation, you can ensure that it meets the needs of your users and stakeholders.\\n\\nIn conclusion, Langsmith offers a wide range of features that can aid in the testing process for technical documentation. By leveraging these features, you can ensure that your documentation is of high quality, accurate, and consistent with the latest code changes.\""
      ]
     },
     "execution_count": 8,
     "metadata": {},
     "output_type": "execute_result"
    }
   ],
   "source": [
    "chain.invoke({\"input\": \"how can langsmith help with testing?\"})"
   ]
  },
  {
   "cell_type": "code",
   "execution_count": null,
   "metadata": {},
   "outputs": [],
   "source": []
  }
 ],
 "metadata": {
  "kernelspec": {
   "display_name": "learning-in-general",
   "language": "python",
   "name": "python3"
  },
  "language_info": {
   "codemirror_mode": {
    "name": "ipython",
    "version": 3
   },
   "file_extension": ".py",
   "mimetype": "text/x-python",
   "name": "python",
   "nbconvert_exporter": "python",
   "pygments_lexer": "ipython3",
   "version": "3.10.13"
  }
 },
 "nbformat": 4,
 "nbformat_minor": 2
}
