{
  "cells": [
    {
      "cell_type": "code",
      "execution_count": null,
      "metadata": {
        "collapsed": false
      },
      "outputs": [],
      "source": [
        "# For tips on running notebooks in Google Colab, see\n",
        "# https://pytorch.org/tutorials/beginner/colab\n",
        "%matplotlib inline"
      ]
    },
    {
      "cell_type": "markdown",
      "metadata": {},
      "source": [
        "\n",
        "# NLP From Scratch: 通过character级别的RNN对于名字分类\n",
        "**Author**: [Sean Robertson](https://github.com/spro)\n",
        "\n",
        "我们将构建并训练一个基本的字符级循环神经网络（RNN），用于对单词进行分类。本教程连同另外两个“从零开始”的自然语言处理（NLP）教程：:doc:/intermediate/char_rnn_generation_tutorial 和 :doc:/intermediate/seq2seq_translation_tutorial，展示了如何预处理数据以建模NLP。特别是这些教程没有使用 torchtext 的许多便利功能，因此您可以看到在较低层面上对NLP进行建模的预处理是如何工作的。\n",
        "\n",
        "字符级RNN将单词视为一系列字符 - 在每个步骤中输出预测和“隐藏状态”，将其前一个隐藏状态输入到下一个步骤中。我们将最后的预测作为输出，即单词属于哪个类别。\n",
        "\n",
        "具体来说，我们将在来自18种语言的几千个姓氏上进行训练，并根据拼写预测一个名字来自哪种语言：\n",
        "\n",
        "```sh\n",
        "$ python predict.py Hinton\n",
        "(-0.47) Scottish\n",
        "(-1.52) English\n",
        "(-3.57) Irish\n",
        "\n",
        "$ python predict.py Schmidhuber\n",
        "(-0.19) German\n",
        "(-2.48) Czech\n",
        "(-2.68) Dutch\n",
        "```\n",
        "## 准备工作\n",
        "\n",
        "在开始本教程之前，建议您已经安装了 PyTorch，并且对 Python 编程语言和张量有基本的了解：\n",
        "\n",
        "https://pytorch.org/ 用于安装说明\n",
        ":doc:`/beginner/deep_learning_60min_blitz` 用于开始使用 PyTorch 并了解张量的基础知识\n",
        ":doc:`/beginner/pytorch_with_examples` 提供了广泛而深入的概述\n",
        ":doc:`/beginner/former_torchies_tutorial` 如果您之前是 Lua Torch 用户\n",
        "了解 RNN 及其工作原理也会很有帮助：\n",
        "\n",
        "循环神经网络的不合理有效性 展示了许多现实生活中的例子\n",
        "理解 LSTM 网络 专门讲述了 LSTM，但也对 RNN 有一般性的介绍\n",
        "\n",
        "## 准备数据\n",
        "\n",
        "<div class=\"alert alert-info\"><h4>Note</h4><p>Download the data from\n",
        "   [here](https://download.pytorch.org/tutorial/data.zip)\n",
        "   and extract it to the current directory.</p></div>\n",
        "\n",
        "包含在 data/names 目录中的是 18 个以 [语言].txt 命名的文本文件。每个文件包含一堆名字，每行一个名字，大多数是罗马化的（但我们仍然需要从 Unicode 转换为 ASCII）。\n",
        "\n",
        "我们最终将得到一个按语言分类的名字列表的字典，{language: [names ...]}。用于后续扩展性的通用变量“category”和“line”（在我们的案例中分别用于语言和名字）。\n"
      ]
    },
    {
      "cell_type": "code",
      "execution_count": 1,
      "metadata": {
        "collapsed": false
      },
      "outputs": [
        {
          "name": "stdout",
          "output_type": "stream",
          "text": [
            "['../../data/nlp_scratch/names/Dutch.txt', '../../data/nlp_scratch/names/Russian.txt', '../../data/nlp_scratch/names/Scottish.txt', '../../data/nlp_scratch/names/Arabic.txt', '../../data/nlp_scratch/names/Vietnamese.txt', '../../data/nlp_scratch/names/German.txt', '../../data/nlp_scratch/names/Chinese.txt', '../../data/nlp_scratch/names/Italian.txt', '../../data/nlp_scratch/names/Polish.txt', '../../data/nlp_scratch/names/English.txt', '../../data/nlp_scratch/names/Czech.txt', '../../data/nlp_scratch/names/Korean.txt', '../../data/nlp_scratch/names/Irish.txt', '../../data/nlp_scratch/names/Spanish.txt', '../../data/nlp_scratch/names/Japanese.txt', '../../data/nlp_scratch/names/Portuguese.txt', '../../data/nlp_scratch/names/French.txt', '../../data/nlp_scratch/names/Greek.txt']\n",
            "Slusarski\n"
          ]
        }
      ],
      "source": [
        "from io import open\n",
        "import glob\n",
        "import os\n",
        "\n",
        "def findFiles(path): return glob.glob(path)\n",
        "\n",
        "print(findFiles('../../data/nlp_scratch/names/*.txt'))\n",
        "\n",
        "import unicodedata\n",
        "import string\n",
        "\n",
        "all_letters = string.ascii_letters + \" .,;'\"\n",
        "n_letters = len(all_letters)\n",
        "\n",
        "# Turn a Unicode string to plain ASCII, thanks to https://stackoverflow.com/a/518232/2809427\n",
        "def unicodeToAscii(s):\n",
        "    return ''.join(\n",
        "        c for c in unicodedata.normalize('NFD', s)\n",
        "        if unicodedata.category(c) != 'Mn'\n",
        "        and c in all_letters\n",
        "    )\n",
        "\n",
        "print(unicodeToAscii('Ślusàrski'))\n",
        "\n",
        "# Build the category_lines dictionary, a list of names per language\n",
        "category_lines = {}\n",
        "all_categories = []\n",
        "\n",
        "# Read a file and split into lines\n",
        "def readLines(filename):\n",
        "    lines = open(filename, encoding='utf-8').read().strip().split('\\n')\n",
        "    return [unicodeToAscii(line) for line in lines]\n",
        "\n",
        "for filename in findFiles('../../data/nlp_scratch/names/*.txt'):\n",
        "    category = os.path.splitext(os.path.basename(filename))[0]\n",
        "    all_categories.append(category)\n",
        "    lines = readLines(filename)\n",
        "    category_lines[category] = lines\n",
        "\n",
        "n_categories = len(all_categories)"
      ]
    },
    {
      "cell_type": "markdown",
      "metadata": {},
      "source": [
        "现在我们有了 category_lines，这是一个字典，将每个类别（语言）映射到一系列行（名字）。我们还跟踪了 all_categories（仅仅是语言列表）和 n_categories 以供后续参考。"
      ]
    },
    {
      "cell_type": "code",
      "execution_count": 4,
      "metadata": {
        "collapsed": false
      },
      "outputs": [
        {
          "name": "stdout",
          "output_type": "stream",
          "text": [
            "['Ang', 'AuYong', 'Bai', 'Ban', 'Bao']\n"
          ]
        }
      ],
      "source": [
        "print(category_lines['Chinese'][:5])"
      ]
    },
    {
      "cell_type": "markdown",
      "metadata": {},
      "source": [
        "### 将名字转换为张量\n",
        "\n",
        "现在我们已经组织好所有名字，我们需要将它们转换为张量以便使用。\n",
        "\n",
        "为了表示一个单个字母，我们使用大小为 ``<1 x n_letters>`` 的“单热向量”。单热向量除了当前字母的索引位置是 1 以外，其他都填充为 0，例如：``\"b\" = <0 1 0 0 0 ...>``。\n",
        "\n",
        "为了形成一个单词，我们将一系列这样的向量连接成一个 2D 矩阵 ``<line_length x 1 x n_letters>``。\n",
        "\n",
        "这个额外的 1 维是因为 PyTorch 假设所有内容都是批处理的 - 我们在这里仅使用批量大小为 1。\n"
      ]
    },
    {
      "cell_type": "code",
      "execution_count": 5,
      "metadata": {
        "collapsed": false
      },
      "outputs": [
        {
          "name": "stdout",
          "output_type": "stream",
          "text": [
            "tensor([[0., 0., 0., 0., 0., 0., 0., 0., 0., 0., 0., 0., 0., 0., 0., 0., 0., 0.,\n",
            "         0., 0., 0., 0., 0., 0., 0., 0., 0., 0., 0., 0., 0., 0., 0., 0., 0., 1.,\n",
            "         0., 0., 0., 0., 0., 0., 0., 0., 0., 0., 0., 0., 0., 0., 0., 0., 0., 0.,\n",
            "         0., 0., 0.]])\n",
            "torch.Size([5, 1, 57])\n"
          ]
        }
      ],
      "source": [
        "import torch\n",
        "\n",
        "# Find letter index from all_letters, e.g. \"a\" = 0\n",
        "def letterToIndex(letter):\n",
        "    return all_letters.find(letter)\n",
        "\n",
        "# Just for demonstration, turn a letter into a <1 x n_letters> Tensor\n",
        "def letterToTensor(letter):\n",
        "    tensor = torch.zeros(1, n_letters)\n",
        "    tensor[0][letterToIndex(letter)] = 1\n",
        "    return tensor\n",
        "\n",
        "# Turn a line into a <line_length x 1 x n_letters>,\n",
        "# or an array of one-hot letter vectors\n",
        "def lineToTensor(line):\n",
        "    tensor = torch.zeros(len(line), 1, n_letters)\n",
        "    for li, letter in enumerate(line):\n",
        "        tensor[li][0][letterToIndex(letter)] = 1\n",
        "    return tensor\n",
        "\n",
        "print(letterToTensor('J'))\n",
        "\n",
        "print(lineToTensor('Jones').size())"
      ]
    },
    {
      "cell_type": "markdown",
      "metadata": {},
      "source": [
        "## 创建网络\n",
        "\n",
        "在 autograd 出现之前，通过 Torch 创建循环神经网络涉及到在多个时间步上克隆一层的参数。这些层持有隐藏状态和梯度，现在这些全部由图本身处理。这意味着你可以以一种非常“纯净”的方式实现 RNN，就像常规的前馈层一样。\n",
        "\n",
        "这个 RNN 模块（大部分复制自 [PyTorch for Torch users 教程](https://pytorch.org/tutorials/beginner/former_torchies/nn_tutorial.html#example-2-recurrent-net)）仅仅是两个线性层，它们作用于输入和隐藏状态，输出后有一个 ``LogSoftmax`` 层。\n"
      ]
    },
    {
      "cell_type": "code",
      "execution_count": 8,
      "metadata": {
        "collapsed": false
      },
      "outputs": [],
      "source": [
        "import torch.nn as nn\n",
        "\n",
        "class RNN(nn.Module):\n",
        "    def __init__(self, input_size, hidden_size, output_size):\n",
        "        super(RNN, self).__init__()\n",
        "\n",
        "        self.hidden_size = hidden_size\n",
        "\n",
        "        self.i2h = nn.Linear(input_size + hidden_size, hidden_size)\n",
        "        self.h2o = nn.Linear(hidden_size, output_size)\n",
        "        self.softmax = nn.LogSoftmax(dim=1)\n",
        "\n",
        "    def forward(self, input, hidden):\n",
        "        combined = torch.cat((input, hidden), 1)\n",
        "        hidden = self.i2h(combined)\n",
        "        output = self.h2o(hidden)\n",
        "        output = self.softmax(output)\n",
        "        return output, hidden\n",
        "\n",
        "    def initHidden(self):\n",
        "        return torch.zeros(1, self.hidden_size)\n",
        "\n",
        "n_hidden = 128\n",
        "rnn = RNN(n_letters, n_hidden, n_categories)"
      ]
    },
    {
      "cell_type": "markdown",
      "metadata": {},
      "source": [
        "要运行这个网络的一个步骤，我们需要传递一个输入（在我们的案例中，是当前字母的张量）和一个先前的隐藏状态（我们最初将其初始化为零）。我们将得到输出（每种语言的概率）和下一个隐藏状态（我们将其保留到下一步）。"
      ]
    },
    {
      "cell_type": "code",
      "execution_count": 9,
      "metadata": {
        "collapsed": false
      },
      "outputs": [],
      "source": [
        "input = letterToTensor('A')\n",
        "hidden = torch.zeros(1, n_hidden)\n",
        "\n",
        "output, next_hidden = rnn(input, hidden)  # RNN\n"
      ]
    },
    {
      "cell_type": "markdown",
      "metadata": {},
      "source": [
        "为了提高效率，我们不想为每个步骤创建一个新的张量，所以我们将使用 ``lineToTensor`` 而不是 ``letterToTensor`` 并使用切片。这可以通过预先计算张量的批次来进一步优化。"
      ]
    },
    {
      "cell_type": "code",
      "execution_count": 10,
      "metadata": {
        "collapsed": false
      },
      "outputs": [
        {
          "name": "stdout",
          "output_type": "stream",
          "text": [
            "tensor([[-2.8847, -2.9724, -2.9377, -2.8832, -2.8561, -2.9621, -2.9515, -2.9514,\n",
            "         -2.8419, -2.9018, -2.8724, -2.9023, -2.8927, -2.8000, -2.8410, -2.8354,\n",
            "         -2.8906, -2.8692]], grad_fn=<LogSoftmaxBackward0>)\n"
          ]
        }
      ],
      "source": [
        "input = lineToTensor('Albert')\n",
        "hidden = torch.zeros(1, n_hidden)\n",
        "\n",
        "output, next_hidden = rnn(input[0], hidden)\n",
        "print(output)"
      ]
    },
    {
      "cell_type": "markdown",
      "metadata": {},
      "source": [
        "正如您所看到的，输出是一个 ``<1 x n_categories>`` 张量，其中每个项目是该类别的可能性（数值越高，越可能）。\n"
      ]
    },
    {
      "cell_type": "markdown",
      "metadata": {},
      "source": [
        "## 训练\n",
        "训练准备\n",
        "------\n",
        "\n",
        "在进入训练之前，我们应该制作一些辅助函数。第一个是解释网络的输出，我们知道这是每个类别的可能性。我们可以使用 ``Tensor.topk`` 来获取最大值的索引："
      ]
    },
    {
      "cell_type": "code",
      "execution_count": 11,
      "metadata": {
        "collapsed": false
      },
      "outputs": [
        {
          "name": "stdout",
          "output_type": "stream",
          "text": [
            "('Spanish', 13)\n"
          ]
        }
      ],
      "source": [
        "def categoryFromOutput(output):\n",
        "    top_n, top_i = output.topk(1)\n",
        "    category_i = top_i[0].item()\n",
        "    return all_categories[category_i], category_i\n",
        "\n",
        "print(categoryFromOutput(output))"
      ]
    },
    {
      "cell_type": "markdown",
      "metadata": {},
      "source": [
        "我们还想要一种快速获得训练示例（一个名字及其语言）的方法："
      ]
    },
    {
      "cell_type": "code",
      "execution_count": 12,
      "metadata": {
        "collapsed": false
      },
      "outputs": [
        {
          "name": "stdout",
          "output_type": "stream",
          "text": [
            "category = Japanese / line = Kogara\n",
            "category = Dutch / line = Hout\n",
            "category = Greek / line = Eatros\n",
            "category = Portuguese / line = Souza\n",
            "category = Czech / line = Cerney\n",
            "category = Vietnamese / line = Bui\n",
            "category = Russian / line = Rahalsky\n",
            "category = Japanese / line = Komiya\n",
            "category = Greek / line = Kaloxylos\n",
            "category = Spanish / line = Alvarez\n"
          ]
        }
      ],
      "source": [
        "import random\n",
        "\n",
        "def randomChoice(l):\n",
        "    return l[random.randint(0, len(l) - 1)]\n",
        "\n",
        "def randomTrainingExample():\n",
        "    category = randomChoice(all_categories)\n",
        "    line = randomChoice(category_lines[category])\n",
        "    category_tensor = torch.tensor([all_categories.index(category)], dtype=torch.long)\n",
        "    line_tensor = lineToTensor(line)\n",
        "    return category, line, category_tensor, line_tensor\n",
        "\n",
        "for i in range(10):\n",
        "    category, line, category_tensor, line_tensor = randomTrainingExample()\n",
        "    print('category =', category, '/ line =', line)"
      ]
    },
    {
      "cell_type": "markdown",
      "metadata": {},
      "source": [
        "### 训练网络\n",
        "\n",
        "现在要训练这个网络，只需要向它展示一系列的例子，让它进行猜测，并告诉它猜错了。\n",
        "\n",
        "对于损失函数，``nn.NLLLoss`` 是合适的，因为 RNN 的最后一层是 ``nn.LogSoftmax``。\n"
      ]
    },
    {
      "cell_type": "code",
      "execution_count": 13,
      "metadata": {
        "collapsed": false
      },
      "outputs": [],
      "source": [
        "criterion = nn.NLLLoss()"
      ]
    },
    {
      "cell_type": "markdown",
      "metadata": {},
      "source": [
        "训练的每个循环将：\n",
        "\n",
        "- 创建输入和目标张量\n",
        "- 创建一个归零的初始隐藏状态\n",
        "- 读取每个字母并\n",
        "\n",
        "   - 为下一个字母保留隐藏状态\n",
        "\n",
        "- 将最终输出与目标进行比较\n",
        "- 反向传播\n",
        "- 返回输出和损失"
      ]
    },
    {
      "cell_type": "code",
      "execution_count": 14,
      "metadata": {
        "collapsed": false
      },
      "outputs": [],
      "source": [
        "learning_rate = 0.005 # If you set this too high, it might explode. If too low, it might not learn\n",
        "\n",
        "def train(category_tensor, line_tensor):\n",
        "    hidden = rnn.initHidden()\n",
        "\n",
        "    rnn.zero_grad()\n",
        "\n",
        "    for i in range(line_tensor.size()[0]):\n",
        "        output, hidden = rnn(line_tensor[i], hidden)\n",
        "\n",
        "    loss = criterion(output, category_tensor)\n",
        "    loss.backward()\n",
        "\n",
        "    # Add parameters' gradients to their values, multiplied by learning rate\n",
        "    for p in rnn.parameters():\n",
        "        p.data.add_(p.grad.data, alpha=-learning_rate)\n",
        "\n",
        "    return output, loss.item()"
      ]
    },
    {
      "cell_type": "markdown",
      "metadata": {},
      "source": [
        "现在我们只需要用一系列例子来运行它。由于 ``train`` 函数返回输出和损失，我们可以打印它的猜测，并跟踪损失以便绘图。由于有成千上万的例子，我们只在每 ``print_every`` 个例子打印一次，并取损失的平均值。"
      ]
    },
    {
      "cell_type": "code",
      "execution_count": 15,
      "metadata": {
        "collapsed": false
      },
      "outputs": [
        {
          "name": "stdout",
          "output_type": "stream",
          "text": [
            "5000 5% (0m 2s) 2.0087 Danas / Greek ✓\n",
            "10000 10% (0m 4s) 1.3420 Noguchi / Japanese ✓\n",
            "15000 15% (0m 6s) 1.4899 Jiu / Korean ✗ (Chinese)\n",
            "20000 20% (0m 9s) 1.4918 Ly / Korean ✗ (Vietnamese)\n",
            "25000 25% (0m 11s) 2.7963 Lama / Japanese ✗ (Italian)\n",
            "30000 30% (0m 13s) 1.2887 Vilaro / Italian ✗ (Spanish)\n",
            "35000 35% (0m 15s) 0.3873 Dubicki / Polish ✓\n",
            "40000 40% (0m 18s) 1.9999 Cham / Vietnamese ✗ (Arabic)\n",
            "45000 45% (0m 20s) 1.3134 Tang / Vietnamese ✗ (Chinese)\n",
            "50000 50% (0m 22s) 1.2417 Colbert / Dutch ✗ (French)\n",
            "55000 55% (0m 24s) 0.2476 Malinowski / Polish ✓\n",
            "60000 60% (0m 27s) 0.5098 Benesch / Czech ✓\n",
            "65000 65% (0m 29s) 1.3273 Maria / Portuguese ✓\n",
            "70000 70% (0m 31s) 0.2257 O'Donoghue / Irish ✓\n",
            "75000 75% (0m 33s) 2.6236 Mas / Chinese ✗ (Spanish)\n",
            "80000 80% (0m 36s) 0.8637 Souza / Portuguese ✓\n",
            "85000 85% (0m 38s) 1.5951 Koury / English ✗ (Arabic)\n",
            "90000 90% (0m 40s) 0.5871 Mazuka / Japanese ✓\n",
            "95000 95% (0m 42s) 0.4386 Si / Korean ✓\n",
            "100000 100% (0m 45s) 0.3392 Pham / Vietnamese ✓\n"
          ]
        }
      ],
      "source": [
        "import time\n",
        "import math\n",
        "\n",
        "n_iters = 100000\n",
        "print_every = 5000\n",
        "plot_every = 1000\n",
        "\n",
        "\n",
        "\n",
        "# Keep track of losses for plotting\n",
        "current_loss = 0\n",
        "all_losses = []\n",
        "\n",
        "def timeSince(since):\n",
        "    now = time.time()\n",
        "    s = now - since\n",
        "    m = math.floor(s / 60)\n",
        "    s -= m * 60\n",
        "    return '%dm %ds' % (m, s)\n",
        "\n",
        "start = time.time()\n",
        "\n",
        "for iter in range(1, n_iters + 1):\n",
        "    category, line, category_tensor, line_tensor = randomTrainingExample()\n",
        "    output, loss = train(category_tensor, line_tensor)\n",
        "    current_loss += loss\n",
        "\n",
        "    # Print ``iter`` number, loss, name and guess\n",
        "    if iter % print_every == 0:\n",
        "        guess, guess_i = categoryFromOutput(output)\n",
        "        correct = '✓' if guess == category else '✗ (%s)' % category\n",
        "        print('%d %d%% (%s) %.4f %s / %s %s' % (iter, iter / n_iters * 100, timeSince(start), loss, line, guess, correct))\n",
        "\n",
        "    # Add current loss avg to list of losses\n",
        "    if iter % plot_every == 0:\n",
        "        all_losses.append(current_loss / plot_every)\n",
        "        current_loss = 0"
      ]
    },
    {
      "cell_type": "markdown",
      "metadata": {},
      "source": [
        "### 绘制结果\n",
        "\n",
        "Plotting the historical loss from ``all_losses`` shows the network\n",
        "learning:\n",
        "\n",
        "\n"
      ]
    },
    {
      "cell_type": "code",
      "execution_count": 16,
      "metadata": {
        "collapsed": false
      },
      "outputs": [
        {
          "data": {
            "text/plain": [
              "[<matplotlib.lines.Line2D at 0x7f51b6d32d70>]"
            ]
          },
          "execution_count": 16,
          "metadata": {},
          "output_type": "execute_result"
        },
        {
          "data": {
            "image/png": "[encoded data removed]",
            "text/plain": [
              "<Figure size 640x480 with 1 Axes>"
            ]
          },
          "metadata": {},
          "output_type": "display_data"
        }
      ],
      "source": [
        "import matplotlib.pyplot as plt\n",
        "import matplotlib.ticker as ticker\n",
        "\n",
        "plt.figure()\n",
        "plt.plot(all_losses)"
      ]
    },
    {
      "cell_type": "markdown",
      "metadata": {},
      "source": [
        "## 评估结果\n",
        "\n",
        "为了看到网络在不同类别上的表现如何，我们将创建一个混淆矩阵，表示每种实际语言（行）网络猜测的语言（列）。为了计算混淆矩阵，需要通过网络运行一系列样本，使用 ``evaluate()`` 函数，这与 ``train()`` 函数相同，只是没有反向传播。"
      ]
    },
    {
      "cell_type": "code",
      "execution_count": 17,
      "metadata": {
        "collapsed": false
      },
      "outputs": [
        {
          "name": "stderr",
          "output_type": "stream",
          "text": [
            "/tmp/ipykernel_18756/3585656379.py:33: UserWarning: set_ticklabels() should only be used with a fixed number of ticks, i.e. after set_ticks() or using a FixedLocator.\n",
            "  ax.set_xticklabels([''] + all_categories, rotation=90)\n",
            "/tmp/ipykernel_18756/3585656379.py:34: UserWarning: set_ticklabels() should only be used with a fixed number of ticks, i.e. after set_ticks() or using a FixedLocator.\n",
            "  ax.set_yticklabels([''] + all_categories)\n"
          ]
        },
        {
          "data": {
            "image/png": "[encoded data removed]",
            "text/plain": [
              "<Figure size 640x480 with 2 Axes>"
            ]
          },
          "metadata": {},
          "output_type": "display_data"
        }
      ],
      "source": [
        "# Keep track of correct guesses in a confusion matrix\n",
        "confusion = torch.zeros(n_categories, n_categories)\n",
        "n_confusion = 10000\n",
        "\n",
        "# Just return an output given a line\n",
        "def evaluate(line_tensor):\n",
        "    hidden = rnn.initHidden()\n",
        "\n",
        "    for i in range(line_tensor.size()[0]):\n",
        "        output, hidden = rnn(line_tensor[i], hidden)\n",
        "\n",
        "    return output\n",
        "\n",
        "# Go through a bunch of examples and record which are correctly guessed\n",
        "for i in range(n_confusion):\n",
        "    category, line, category_tensor, line_tensor = randomTrainingExample()\n",
        "    output = evaluate(line_tensor)\n",
        "    guess, guess_i = categoryFromOutput(output)\n",
        "    category_i = all_categories.index(category)\n",
        "    confusion[category_i][guess_i] += 1\n",
        "\n",
        "# Normalize by dividing every row by its sum\n",
        "for i in range(n_categories):\n",
        "    confusion[i] = confusion[i] / confusion[i].sum()\n",
        "\n",
        "# Set up plot\n",
        "fig = plt.figure()\n",
        "ax = fig.add_subplot(111)\n",
        "cax = ax.matshow(confusion.numpy())\n",
        "fig.colorbar(cax)\n",
        "\n",
        "# Set up axes\n",
        "ax.set_xticklabels([''] + all_categories, rotation=90)\n",
        "ax.set_yticklabels([''] + all_categories)\n",
        "\n",
        "# Force label at every tick\n",
        "ax.xaxis.set_major_locator(ticker.MultipleLocator(1))\n",
        "ax.yaxis.set_major_locator(ticker.MultipleLocator(1))\n",
        "\n",
        "# sphinx_gallery_thumbnail_number = 2\n",
        "plt.show()"
      ]
    },
    {
      "cell_type": "markdown",
      "metadata": {},
      "source": [
        "您可以在主轴外挑选出亮点，这些亮点显示了它错误猜测的语言，例如把韩语猜测为中文，把意大利语猜测为西班牙语。看起来它对希腊语表现非常好，但对英语表现非常差（可能是因为与其他语言的重叠）。"
      ]
    },
    {
      "cell_type": "markdown",
      "metadata": {},
      "source": [
        "### Running on User Input\n",
        "\n",
        "\n"
      ]
    },
    {
      "cell_type": "code",
      "execution_count": 18,
      "metadata": {
        "collapsed": false
      },
      "outputs": [
        {
          "name": "stdout",
          "output_type": "stream",
          "text": [
            "\n",
            "> Dovesky\n",
            "(-0.40) Russian\n",
            "(-1.22) Czech\n",
            "(-3.81) English\n",
            "\n",
            "> Jackson\n",
            "(-0.51) Scottish\n",
            "(-1.78) Russian\n",
            "(-2.22) English\n",
            "\n",
            "> Satoshi\n",
            "(-0.61) Japanese\n",
            "(-1.54) Italian\n",
            "(-2.68) Arabic\n",
            "\n",
            "> Liu\n",
            "(-0.51) Chinese\n",
            "(-1.14) Vietnamese\n",
            "(-3.04) Korean\n"
          ]
        }
      ],
      "source": [
        "def predict(input_line, n_predictions=3):\n",
        "    print('\\n> %s' % input_line)\n",
        "    with torch.no_grad():\n",
        "        output = evaluate(lineToTensor(input_line))\n",
        "\n",
        "        # Get top N categories\n",
        "        topv, topi = output.topk(n_predictions, 1, True)\n",
        "        predictions = []\n",
        "\n",
        "        for i in range(n_predictions):\n",
        "            value = topv[0][i].item()\n",
        "            category_index = topi[0][i].item()\n",
        "            print('(%.2f) %s' % (value, all_categories[category_index]))\n",
        "            predictions.append([value, all_categories[category_index]])\n",
        "\n",
        "predict('Dovesky')\n",
        "predict('Jackson')\n",
        "predict('Satoshi')\n",
        "predict('Liu')"
      ]
    },
    {
      "cell_type": "markdown",
      "metadata": {},
      "source": [
        "[实用 PyTorch 仓库(deprecated in 2021)](https://github.com/spro/practical-pytorch/tree/master/char-rnn-classification)中的最终脚本版本将上述代码分为几个文件：\n",
        "\n",
        "-  ``data.py``（加载文件）\n",
        "-  ``model.py``（定义 RNN）\n",
        "-  ``train.py``（运行训练）\n",
        "-  ``predict.py``（使用命令行参数运行 ``predict()``）\n",
        "-  ``server.py``（使用 ``bottle.py`` 以 JSON API 形式提供预测）\n",
        "\n",
        "运行 ``train.py`` 以训练并保存网络。\n",
        "\n",
        "运行 ``predict.py`` 并输入一个名称来查看预测：\n",
        "```sh\n",
        "$ python predict.py Hazaki\n",
        "(-0.42) Japanese\n",
        "(-1.39) Polish\n",
        "(-3.51) Czech\n",
        "```\n",
        "运行 ``server.py`` 并访问 http://localhost:5533/Yourname 来获取预测的 JSON 输出。\n",
        "\n"
      ]
    },
    {
      "cell_type": "markdown",
      "metadata": {},
      "source": [
        "## Exercises\n",
        "\n",
        "-  Try with a different dataset of line -> category, for example:\n",
        "\n",
        "   -  Any word -> language\n",
        "   -  First name -> gender\n",
        "   -  Character name -> writer\n",
        "   -  Page title -> blog or subreddit\n",
        "\n",
        "-  Get better results with a bigger and/or better shaped network\n",
        "\n",
        "   -  Add more linear layers\n",
        "   -  Try the ``nn.LSTM`` and ``nn.GRU`` layers\n",
        "   -  Combine multiple of these RNNs as a higher level network\n",
        "\n",
        "\n"
      ]
    }
  ],
  "metadata": {
    "kernelspec": {
      "display_name": "Python 3",
      "language": "python",
      "name": "python3"
    },
    "language_info": {
      "codemirror_mode": {
        "name": "ipython",
        "version": 3
      },
      "file_extension": ".py",
      "mimetype": "text/x-python",
      "name": "python",
      "nbconvert_exporter": "python",
      "pygments_lexer": "ipython3",
      "version": "3.10.13"
    }
  },
  "nbformat": 4,
  "nbformat_minor": 0
}
